{
 "cells": [
  {
   "cell_type": "markdown",
   "metadata": {
    "id": "Pw3RBo803JQG"
   },
   "source": [
    "### Jeremy Kazimer\n",
    "#### jdkazime@buffalo.edu\n",
    "#### Assignment #6"
   ]
  },
  {
   "cell_type": "markdown",
   "metadata": {
    "id": "qS7K2wQr3I_8"
   },
   "source": [
    "---"
   ]
  },
  {
   "cell_type": "markdown",
   "metadata": {
    "id": "xB2MR5At3Uzf"
   },
   "source": [
    "#### _Import Statements_"
   ]
  },
  {
   "cell_type": "markdown",
   "metadata": {
    "id": "ttZDO2bj3aD-"
   },
   "source": [
    "As always, our import statements:"
   ]
  },
  {
   "cell_type": "code",
   "execution_count": 1,
   "metadata": {
    "id": "U-hOCuPlb-mZ"
   },
   "outputs": [],
   "source": [
    "from matplotlib import pyplot as plt\n",
    "\n",
    "import tensorflow_probability as tfp\n",
    "import tensorflow as tf"
   ]
  },
  {
   "cell_type": "markdown",
   "metadata": {
    "id": "eg-sb1se3c85"
   },
   "source": [
    "#### _Introduction_"
   ]
  },
  {
   "cell_type": "markdown",
   "metadata": {
    "id": "t_wRHsiK3fi9"
   },
   "source": [
    "The premise of this problem is that you're at the University at Buffalo, with some affiliation to the school.  As such, you're required to get tested weekly; nothing particular traumatizing, just a mouth swab test.  On the day of the test, everything is normal...you tell the people collecting your test to have a nice day and you get something to eat immediately after.  \n",
    "\n",
    "All is well! Until you get an email...an email from the university informing you that your pool tested positive.  Anxiety rushes in, like a horde of people enclosing you with nowhere to go.  How is this possible? You haven't interacted with anyone face-to-face for longer than 30 seconds! You can't stop thinking about it.  Could I be sick? Worse, could I have spread it to other people?  \n",
    "\n",
    "The thoughts get worse...you're at the lowest point in the pandemic, so you decide to do some math..."
   ]
  },
  {
   "cell_type": "markdown",
   "metadata": {
    "id": "GonsEUe54mH0"
   },
   "source": [
    "#### _Solution_"
   ]
  },
  {
   "cell_type": "markdown",
   "metadata": {
    "id": "NrICWPkB4ovs"
   },
   "source": [
    "First, it must be noted that the retelling above is not a true story; at some point I did have a positive pool result, but I did not respond by doing math.  Instead, I was just mildly anxious until I received my individual test.\n",
    "\n",
    "Regardless, the purpose of this problem is to calculate the probability that you're infected with COVID-19, given that your pool tests positive.  This is a rather convoluted problem, albeit it may not seem so.  Namely, it is a conditional probability question.  \n",
    "\n",
    "To begin, let's establish some variables.  First, the probability that you're infected given that the pool is positive will be represented by the variable\n",
    "\\begin{equation}\n",
    "P(S | +)\n",
    "\\end{equation}\n",
    "\n",
    "which is effectively asking: what is the probability that you're sick $S$ given that the pool is positive $+$? Well, it's not as simple as scalar multiplication.  There are a few things to consider here.  How accurate are these COVID-19 tests? What is the infection rate? Really, this can be solved using Bayes Equation such that\n",
    "\\begin{equation}\n",
    "P( A | B ) = \\dfrac{P(B | A) P(A) }{P(B)}\n",
    "\\end{equation}\n",
    "\n",
    "Here, $P(A | B)$ is analogous to $P(S | +)$.  As such, $P(A)$ is equivalent to $P(S)$ and $P(B)$ is equivalent to $P(+)$.  Rewritten,\n",
    "\\begin{equation}\n",
    "P(S | +) = \\dfrac{P(+ | S) P(S)}{P(+)}\n",
    "\\end{equation}\n",
    "\n",
    "Now that we've defined these variables, it's important to define the way that these variables take shape.  On this front, the probability of testing positive given that you're sick $P(+ | S)$ would just be the accuracy of the the tests.  This is because...well, if you know that you're sick, then the test should detect that you're positive.  This is not always the case.  A [cursory glance](https://www.healthline.com/health-news/noninvasive-saliva-tests-for-covid-19-as-effective-as-nose-throat-swabs#What-experts-think) shows that the accuracy of the mouth swab test is\n",
    "\\begin{equation}\n",
    "P(+ | S) = 83\\%\n",
    "\\end{equation}"
   ]
  },
  {
   "cell_type": "code",
   "execution_count": 6,
   "metadata": {
    "id": "2NEcqabU7ep4"
   },
   "outputs": [],
   "source": [
    "acc = 83/100"
   ]
  },
  {
   "cell_type": "markdown",
   "metadata": {
    "id": "v7DpkcAD7eJr"
   },
   "source": [
    "The probability of getting sick $P(S)$ then would just be the infection rate; the name is a bit misleading, but it's really an approximation to how many people are out there with COVID-19.  Since there isn't quite an exact statistic on the likelihood of getting COVID-19, this approximation will have to do.  Erie County's [COVID-19 page](https://covidactnow.org/us/new_york-ny/county/erie_county/?s=1749670) puts this value at\n",
    "\\begin{equation}\n",
    "P(S) = 1.11 \\%\n",
    "\\end{equation}"
   ]
  },
  {
   "cell_type": "code",
   "execution_count": 7,
   "metadata": {
    "id": "amiXdVeK8XwR"
   },
   "outputs": [],
   "source": [
    "inf = 1.11/100"
   ]
  },
  {
   "cell_type": "markdown",
   "metadata": {
    "id": "Bz0ksEyX8hEa"
   },
   "source": [
    "Lastly, the probablity of testing positive is a bit complicated.  Since there are 12 people in each pool, if the pool tests positive it doesn't specify the amount of people that tested positive.  So, it could be 1 person.  Or it could be them all! Who knows.  This is just because pooled samples don't quite allow for that precision.  Regardless, we must treat this by looking at the probability function of a binomial distribution such that\n",
    "\\begin{equation}\n",
    "P(n, k, p) = \\begin{pmatrix} n \\\\ k \\end{pmatrix} p^k (1 - p)^{n - k}\n",
    "\\end{equation}\n",
    "\n",
    "Here, $n$ is the total number of people in the pool, 12, and $k$ is the number of people predicted to test positive.  Note that $p$ is really our positive test rate, since we're trying to predict how many people are going to, well, test positive.  As such,\n",
    "\\begin{equation}\n",
    "P(+) = \\begin{pmatrix} 12 \\\\ k \\end{pmatrix} p^k (1 - p)^{12 - k}\n",
    "\\end{equation}\n",
    "\n",
    "with $p = 10.3 \\%$ from the same site as the infection rate.  One important consideration is that testing positive or negative affects all of these rates, so these values are not precisely accurate.  However, so many people are getting tested such that it shouldn't affect it on a large scale. "
   ]
  },
  {
   "cell_type": "code",
   "execution_count": 8,
   "metadata": {
    "id": "nzD8KeEw9-_7"
   },
   "outputs": [],
   "source": [
    "tpr = 10.3/100"
   ]
  },
  {
   "cell_type": "markdown",
   "metadata": {
    "id": "w161IdqR-Om6"
   },
   "source": [
    "Regardless, we can use `tensorflow_probability` to construct our probability of being sick granted that the pool is positive.  We must use the CDF of the binomial distribution, which is just the sum of the odds up to that particular $k$:"
   ]
  },
  {
   "cell_type": "code",
   "execution_count": 52,
   "metadata": {
    "id": "SwrETA6rNTBR"
   },
   "outputs": [],
   "source": [
    "def probability_infected(n_people, n_total, acc, inf, tpr):\n",
    "\n",
    "    '''\n",
    "    n_people -> number of people potentially positive\n",
    "    n_total -> total number of people in pool\n",
    "    acc -> accuracy of test\n",
    "    inf -> infection rate\n",
    "    tpr -> positive test rate\n",
    "    '''\n",
    "\n",
    "    binomial = tfp.distributions.Binomial(n_total, probs = tpr)\n",
    "    denom = tf.reduce_sum([binomial.prob(i) for i in range(1, n_people + 1)])\n",
    "\n",
    "    ''' We use the CDF (excluding zero) because it'll reflect the odds up to that point, as opposed to that by itself.'''\n",
    "\n",
    "    return acc*inf/denom"
   ]
  },
  {
   "cell_type": "markdown",
   "metadata": {
    "id": "-R6BAVLw-n-e"
   },
   "source": [
    "So, after all of this...it begs the question:  what is the likelihood that one person is infected given a pool is positive?"
   ]
  },
  {
   "cell_type": "code",
   "execution_count": 53,
   "metadata": {
    "colab": {
     "base_uri": "https://localhost:8080/"
    },
    "id": "-kb-6_qVfDVA",
    "outputId": "5bb4060f-c8f7-43ab-84fd-7280a06342cd"
   },
   "outputs": [
    {
     "name": "stdout",
     "output_type": "stream",
     "text": [
      "odds of being sick give the pool is positive: 1.26%\n"
     ]
    }
   ],
   "source": [
    "print('odds of being sick give the pool is positive: {:.2f}%'.format(probability_infected(12, 12, acc, inf, tpr)*100))"
   ]
  },
  {
   "cell_type": "markdown",
   "metadata": {
    "id": "BRLg1i7L_gt4"
   },
   "source": [
    "Of course, this isn't really how this works...it should be a bit higher.  A lot, really.  I'm not sure if my numbers or means are off.  However, I think this is also just inherent to the Bayes method.  It seems counterintuitive.  Regardless, we can plot this for $k = \\{1, 2, \\dots, 12\\}$ to show how our distribution trends:"
   ]
  },
  {
   "cell_type": "code",
   "execution_count": 40,
   "metadata": {
    "colab": {
     "base_uri": "https://localhost:8080/",
     "height": 441
    },
    "id": "6jukGyakQC_C",
    "outputId": "efd6bcf3-826e-4004-896b-3f8cabff303f"
   },
   "outputs": [
    {
     "data": {
      "image/png": "[encoded data removed]",
      "text/plain": [
       "<Figure size 864x432 with 1 Axes>"
      ]
     },
     "metadata": {
      "needs_background": "light",
      "tags": []
     },
     "output_type": "display_data"
    }
   ],
   "source": [
    "fig, ax = plt.subplots(1, 1, figsize = (12, 6))\n",
    "\n",
    "ax.scatter(tf.range(1, 13), [100*probability_infected(i, 12, acc, inf, tpr) for i in range(1, 13)], s = 150, c = 'k')\n",
    "\n",
    "ax.set_ylabel('percentage chance of sickness', fontsize = 14)\n",
    "ax.set_xlabel('number of people tested positive', fontsize = 14)\n",
    "\n",
    "fig.tight_layout()"
   ]
  },
  {
   "cell_type": "markdown",
   "metadata": {
    "id": "vsN-Ac-VA8Vo"
   },
   "source": [
    "Once again, counterintuitive.  You would anticipate that this trends upwards - but the probability decreases since the cumulative of $P(+)$ increases as $k$ increases.  Hmm, I don't know."
   ]
  },
  {
   "cell_type": "markdown",
   "metadata": {
    "id": "L-hVHej-CEwM"
   },
   "source": [
    "#### _Conclusion_\n",
    "Well, if these odds are right, then the main character of this thrilling mystery tale has nothing to worry about.  I do think that this is wrong somewhere, or is at least showing me the failure of statistics as a quantitative field!"
   ]
  },
  {
   "cell_type": "markdown",
   "metadata": {
    "id": "idS-w-urCBAs"
   },
   "source": [
    "---"
   ]
  }
 ],
 "metadata": {
  "colab": {
   "collapsed_sections": [],
   "name": "Problem1.ipynb",
   "provenance": []
  },
  "kernelspec": {
   "display_name": "Python 3",
   "language": "python",
   "name": "python3"
  },
  "language_info": {
   "codemirror_mode": {
    "name": "ipython",
    "version": 3
   },
   "file_extension": ".py",
   "mimetype": "text/x-python",
   "name": "python",
   "nbconvert_exporter": "python",
   "pygments_lexer": "ipython3",
   "version": "3.7.4"
  }
 },
 "nbformat": 4,
 "nbformat_minor": 1
}
